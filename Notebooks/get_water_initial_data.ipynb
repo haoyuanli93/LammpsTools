{
 "cells": [
  {
   "cell_type": "code",
   "execution_count": 2,
   "metadata": {},
   "outputs": [],
   "source": [
    "import sys\n",
    "sys.path.append(\"C:/Users/haoyuan/Documents/GitHub/LammpsTools/\")\n",
    "\n",
    "from LammpsTools import util\n",
    "from LammpsTools.CreateSamples import H2O"
   ]
  },
  {
   "cell_type": "code",
   "execution_count": 4,
   "metadata": {},
   "outputs": [
    {
     "name": "stdout",
     "output_type": "stream",
     "text": [
      "Create an initialization file for 2.28e+04 molecules\n"
     ]
    }
   ],
   "source": [
    "H2O.get_data_file(box_size_A=100, density_g_cm3=0.6819,\n",
    "                  random_number_seed=1,\n",
    "                  file_name=\"C:/Users/haoyuan/Desktop/waterInitial.data\")"
   ]
  },
  {
   "cell_type": "code",
   "execution_count": null,
   "metadata": {},
   "outputs": [],
   "source": []
  }
 ],
 "metadata": {
  "kernelspec": {
   "display_name": "Python 3",
   "language": "python",
   "name": "python3"
  },
  "language_info": {
   "codemirror_mode": {
    "name": "ipython",
    "version": 3
   },
   "file_extension": ".py",
   "mimetype": "text/x-python",
   "name": "python",
   "nbconvert_exporter": "python",
   "pygments_lexer": "ipython3",
   "version": "3.6.10"
  }
 },
 "nbformat": 4,
 "nbformat_minor": 4
}
