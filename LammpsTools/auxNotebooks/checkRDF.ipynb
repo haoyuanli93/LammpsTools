{
 "cells": [
  {
   "cell_type": "code",
   "execution_count": 1,
   "id": "7f970c56-cca0-4ac2-97e5-5784ee134e69",
   "metadata": {},
   "outputs": [],
   "source": [
    "import numpy as np\n",
    "import matplotlib.pyplot as plt\n",
    "\n",
    "plt.rcParams.update({'font.size':22})"
   ]
  },
  {
   "cell_type": "code",
   "execution_count": 2,
   "id": "4fab42aa-5b5d-43e6-b5a8-8aa7897d6708",
   "metadata": {},
   "outputs": [],
   "source": [
    "def get_rdf_info(rdf_file):\n",
    "    \"\"\"\n",
    "\n",
    "    :param rdf_file:\n",
    "    :return:\n",
    "    \"\"\"\n",
    "    with open(rdf_file, 'r') as rdf_file:\n",
    "\n",
    "        # Create a holder to load the file\n",
    "        rdf_holder = []\n",
    "        step_holder = []\n",
    "\n",
    "        # Skip the header\n",
    "        for x in range(3):\n",
    "            _ = rdf_file.readline()\n",
    "\n",
    "        # Load a new line\n",
    "        line = rdf_file.readline()\n",
    "        while line:\n",
    "\n",
    "            # Parse the new line\n",
    "            words = line.split()\n",
    "\n",
    "            # If there are only two words, then this is a description line\n",
    "            if len(words) == 2:\n",
    "\n",
    "                # Save the step number\n",
    "                step_holder.append(int(words[0]))\n",
    "\n",
    "                # Create a new entry in the rdf holder\n",
    "                # Because a new description line\n",
    "                # means the following data are from a new MD snapshot\n",
    "                rdf_holder.append([])\n",
    "\n",
    "            # otherwise, this is a data line\n",
    "            else:\n",
    "                rdf_holder[-1].append([float(words[y]) for y in range(1, 4)])\n",
    "\n",
    "            # Load a new line\n",
    "            line = rdf_file.readline()\n",
    "\n",
    "    return np.array(step_holder, dtype=np.int64), np.array(rdf_holder, dtype=np.float64)\n"
   ]
  },
  {
   "cell_type": "code",
   "execution_count": 3,
   "id": "a2099283-e1af-4526-a75b-798ed07f5d2b",
   "metadata": {},
   "outputs": [
    {
     "ename": "FileNotFoundError",
     "evalue": "[Errno 2] No such file or directory: './output/myRDF.rdf'",
     "output_type": "error",
     "traceback": [
      "\u001b[0;31m---------------------------------------------------------------------------\u001b[0m",
      "\u001b[0;31mFileNotFoundError\u001b[0m                         Traceback (most recent call last)",
      "\u001b[0;32m/tmp/ipykernel_20798/3103528779.py\u001b[0m in \u001b[0;36m<module>\u001b[0;34m\u001b[0m\n\u001b[0;32m----> 1\u001b[0;31m \u001b[0mrunInfo\u001b[0m\u001b[0;34m,\u001b[0m \u001b[0mrdfData\u001b[0m \u001b[0;34m=\u001b[0m \u001b[0mget_rdf_info\u001b[0m\u001b[0;34m(\u001b[0m\u001b[0;34m\"./output/myRDF.rdf\"\u001b[0m\u001b[0;34m)\u001b[0m\u001b[0;34m\u001b[0m\u001b[0;34m\u001b[0m\u001b[0m\n\u001b[0m\u001b[1;32m      2\u001b[0m \u001b[0;34m\u001b[0m\u001b[0m\n\u001b[1;32m      3\u001b[0m \u001b[0maverage_rdf\u001b[0m \u001b[0;34m=\u001b[0m \u001b[0mnp\u001b[0m\u001b[0;34m.\u001b[0m\u001b[0mmean\u001b[0m\u001b[0;34m(\u001b[0m\u001b[0mrdfData\u001b[0m\u001b[0;34m,\u001b[0m \u001b[0maxis\u001b[0m\u001b[0;34m=\u001b[0m\u001b[0;36m0\u001b[0m\u001b[0;34m)\u001b[0m\u001b[0;34m\u001b[0m\u001b[0;34m\u001b[0m\u001b[0m\n\u001b[1;32m      4\u001b[0m \u001b[0mstd_rdf\u001b[0m \u001b[0;34m=\u001b[0m \u001b[0mnp\u001b[0m\u001b[0;34m.\u001b[0m\u001b[0mstd\u001b[0m\u001b[0;34m(\u001b[0m\u001b[0mrdfData\u001b[0m\u001b[0;34m,\u001b[0m \u001b[0maxis\u001b[0m\u001b[0;34m=\u001b[0m\u001b[0;36m0\u001b[0m\u001b[0;34m)\u001b[0m\u001b[0;34m\u001b[0m\u001b[0;34m\u001b[0m\u001b[0m\n",
      "\u001b[0;32m/tmp/ipykernel_20798/1084642697.py\u001b[0m in \u001b[0;36mget_rdf_info\u001b[0;34m(rdf_file)\u001b[0m\n\u001b[1;32m      5\u001b[0m     \u001b[0;34m:\u001b[0m\u001b[0;32mreturn\u001b[0m\u001b[0;34m:\u001b[0m\u001b[0;34m\u001b[0m\u001b[0;34m\u001b[0m\u001b[0m\n\u001b[1;32m      6\u001b[0m     \"\"\"\n\u001b[0;32m----> 7\u001b[0;31m     \u001b[0;32mwith\u001b[0m \u001b[0mopen\u001b[0m\u001b[0;34m(\u001b[0m\u001b[0mrdf_file\u001b[0m\u001b[0;34m,\u001b[0m \u001b[0;34m'r'\u001b[0m\u001b[0;34m)\u001b[0m \u001b[0;32mas\u001b[0m \u001b[0mrdf_file\u001b[0m\u001b[0;34m:\u001b[0m\u001b[0;34m\u001b[0m\u001b[0;34m\u001b[0m\u001b[0m\n\u001b[0m\u001b[1;32m      8\u001b[0m \u001b[0;34m\u001b[0m\u001b[0m\n\u001b[1;32m      9\u001b[0m         \u001b[0;31m# Create a holder to load the file\u001b[0m\u001b[0;34m\u001b[0m\u001b[0;34m\u001b[0m\u001b[0m\n",
      "\u001b[0;31mFileNotFoundError\u001b[0m: [Errno 2] No such file or directory: './output/myRDF.rdf'"
     ]
    }
   ],
   "source": [
    "runInfo, rdfData = get_rdf_info(\"./output/myRDF.rdf\")\n",
    "\n",
    "average_rdf = np.mean(rdfData, axis=0)\n",
    "std_rdf = np.std(rdfData, axis=0)"
   ]
  },
  {
   "cell_type": "code",
   "execution_count": 51,
   "id": "5d37ca45-adf9-4e0f-85bc-9cb4d83ca601",
   "metadata": {},
   "outputs": [
    {
     "data": {
      "image/png": "[encoded data removed]",
      "text/plain": [
       "<Figure size 576x360 with 1 Axes>"
      ]
     },
     "metadata": {
      "needs_background": "light"
     },
     "output_type": "display_data"
    }
   ],
   "source": [
    "fig, axis=plt.subplots(ncols=1, nrows=1)\n",
    "fig.set_figwidth(8)\n",
    "fig.set_figheight(5)\n",
    "\n",
    "axis.fill_between(average_rdf[:,0],\n",
    "                  average_rdf[:,1] - std_rdf[:,1],\n",
    "                  average_rdf[:,1] + std_rdf[:,1],\n",
    "                  color='b', alpha=0.5)\n",
    "axis.plot(average_rdf[:,0], average_rdf[:,1], 'r')\n",
    "\n",
    "plt.show()"
   ]
  }
 ],
 "metadata": {
  "kernelspec": {
   "display_name": "NERSC Python",
   "language": "python",
   "name": "python3"
  },
  "language_info": {
   "codemirror_mode": {
    "name": "ipython",
    "version": 3
   },
   "file_extension": ".py",
   "mimetype": "text/x-python",
   "name": "python",
   "nbconvert_exporter": "python",
   "pygments_lexer": "ipython3",
   "version": "3.9.7"
  }
 },
 "nbformat": 4,
 "nbformat_minor": 5
}
